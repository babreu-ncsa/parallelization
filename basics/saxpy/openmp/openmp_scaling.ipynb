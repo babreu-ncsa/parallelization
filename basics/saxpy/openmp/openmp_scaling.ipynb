{
 "cells": [
  {
   "cell_type": "markdown",
   "id": "673c5edb",
   "metadata": {},
   "source": [
    "# Imports, definitions and compiler path\n",
    "\n",
    "The GCC flag to enable OpenMP directives is *-fopenmp*."
   ]
  },
  {
   "cell_type": "code",
   "execution_count": 31,
   "id": "f72a578a",
   "metadata": {},
   "outputs": [],
   "source": [
    "import os\n",
    "import subprocess\n",
    "import matplotlib.pyplot as plt\n",
    "import sys\n",
    "%matplotlib inline"
   ]
  },
  {
   "cell_type": "code",
   "execution_count": 32,
   "id": "f1181683",
   "metadata": {},
   "outputs": [
    {
     "name": "stdout",
     "output_type": "stream",
     "text": [
      "gcc is available\n"
     ]
    }
   ],
   "source": [
    "# set environment (gcc here)\n",
    "# If you start this notebook from a conda env, sometimes your PATH variable will not include everything that is under your user-defined environment (it may not load your ~/.bashrc). \n",
    "# In my case, I ran this notebook in a Mac where GCC was installed via Homebrew. Therefore, I had to do:\n",
    "# os.environ['PATH'] = os.environ['PATH'] + ':/opt/homebrew/bin'\n",
    "# for this to work properly. On a shared environment this is less likely to happen, but you may need to do a 'module load gcc'\n",
    "try:\n",
    "    comp = subprocess.run(['gcc', '--version'])\n",
    "    print('gcc is available')\n",
    "except:\n",
    "    print('gcc could not be found. Make sure your PATH is set up correctly.')\n",
    "    sys.exit()"
   ]
  },
  {
   "cell_type": "code",
   "execution_count": 44,
   "id": "21aa06c9",
   "metadata": {},
   "outputs": [],
   "source": [
    "# define compiler name, OpenMP flag and source file name\n",
    "compiler = 'gcc'\n",
    "flag = '-fopenmp'\n",
    "sourcefile = 'saxpy_openmp.c'"
   ]
  },
  {
   "cell_type": "code",
   "execution_count": 45,
   "id": "372cbc94",
   "metadata": {},
   "outputs": [],
   "source": [
    "def retrieve_time(stdout):\n",
    "    \"\"\"\n",
    "    Retrieves time from subprocesses.run.stdout (specific to this code)\n",
    "    You may have to adjust this depending on the standard C format output of your machine.\n",
    "    \"\"\"\n",
    "    x = str(stdout)\n",
    "    x = x.replace(\"s\", \"\")\n",
    "    x = x.replace(\"\\n\", \"\")\n",
    "    x = x.replace(\"b\", \"\")\n",
    "    x = x.replace(\"'\", \"\")\n",
    "    return float(x[-10:-2])"
   ]
  },
  {
   "cell_type": "markdown",
   "id": "af2db69e",
   "metadata": {},
   "source": [
    "# Compile the code"
   ]
  },
  {
   "cell_type": "code",
   "execution_count": 46,
   "id": "47c11067",
   "metadata": {},
   "outputs": [
    {
     "name": "stdout",
     "output_type": "stream",
     "text": [
      "Compiled!\n"
     ]
    }
   ],
   "source": [
    "comp = subprocess.run([compiler, flag, sourcefile], capture_output=True)\n",
    "if comp.returncode != 0:\n",
    "    print('Compilation failed!')\n",
    "    print('Error message: ', comp.stderr)\n",
    "    sys.exit()\n",
    "else:\n",
    "    print('Compiled!')"
   ]
  },
  {
   "cell_type": "markdown",
   "id": "1ffb7e38",
   "metadata": {},
   "source": [
    "# Run executable with different number of threads\n",
    "\n",
    "After the compilation is performed, we can cast a different number of OpenMP threads by setting the environment variable *OMP_NUM_THREADS* before execution. From the command line, this would be, for example:\n",
    "\n",
    "`export OMP_NUM_THREADS=4`\n",
    "\n",
    "Here, we are going to wrap that on a call to the Python module *subprocess*, using the *os* module as well."
   ]
  },
  {
   "cell_type": "code",
   "execution_count": 51,
   "id": "0b45d60f",
   "metadata": {},
   "outputs": [
    {
     "name": "stdout",
     "output_type": "stream",
     "text": [
      "Number of threads:  1 b'Time for SAXPY: 0.340843 s\\n'\n",
      "Number of threads:  2 b'Time for SAXPY: 0.181679 s\\n'\n",
      "Number of threads:  4 b'Time for SAXPY: 0.098634 s\\n'\n",
      "Number of threads:  8 b'Time for SAXPY: 0.062620 s\\n'\n",
      "Number of threads:  16 b'Time for SAXPY: 0.063565 s\\n'\n",
      "Number of threads:  32 b'Time for SAXPY: 0.063324 s\\n'\n"
     ]
    }
   ],
   "source": [
    "nthreads = 1\n",
    "n = []\n",
    "t = []\n",
    "for i in range(6):\n",
    "    os.environ['OMP_NUM_THREADS']=str(nthreads)\n",
    "    run = subprocess.run(['./a.out'], capture_output=True)\n",
    "    print(\"Number of threads: \", nthreads, run.stdout)\n",
    "    t.append(retrieve_time(run.stdout))\n",
    "    n.append(nthreads)\n",
    "    nthreads = nthreads*2"
   ]
  },
  {
   "cell_type": "markdown",
   "id": "7eabc4a1",
   "metadata": {},
   "source": [
    "# Plot results\n",
    "\n",
    "Let us take a look at the scaling of the SAXPY execution time. A good way to do that is by comparing the time that it takes to run SAXPY using $N$ threads, $t_N$, to the time that it takes to run it using a single thread, $t_1$."
   ]
  },
  {
   "cell_type": "code",
   "execution_count": 63,
   "id": "5697b606",
   "metadata": {},
   "outputs": [
    {
     "data": {
      "image/png": "[encoded data removed]",
      "text/plain": [
       "<Figure size 432x288 with 1 Axes>"
      ]
     },
     "metadata": {
      "needs_background": "light"
     },
     "output_type": "display_data"
    }
   ],
   "source": [
    "scaling = [t[0] / tN for tN in t]\n",
    "\n",
    "plt.figure()\n",
    "plt.scatter(n, scaling)\n",
    "plt.xscale('log')\n",
    "plt.xlabel('$N$ (# of threads)',fontsize=18)\n",
    "plt.ylabel('$t_1 / t_N$', fontsize=20)\n",
    "plt.xticks(fontsize=16);\n",
    "plt.yticks(fontsize=16);\n",
    "plt.title('OpenMP scaling', fontsize=16);"
   ]
  },
  {
   "cell_type": "markdown",
   "id": "4c7086a9",
   "metadata": {},
   "source": [
    "# Conclusions\n",
    "\n",
    "- OpenMP is an easy approach to parallelize loop-intensive computation in an incremental fashion.\n",
    "- Speedup can be quite linear, but it tends to saturate.\n",
    "- Make sure the number of threads you are calling is compatible to your system."
   ]
  }
 ],
 "metadata": {
  "kernelspec": {
   "display_name": "Python 3",
   "language": "python",
   "name": "python3"
  },
  "language_info": {
   "codemirror_mode": {
    "name": "ipython",
    "version": 3
   },
   "file_extension": ".py",
   "mimetype": "text/x-python",
   "name": "python",
   "nbconvert_exporter": "python",
   "pygments_lexer": "ipython3",
   "version": "3.8.10"
  }
 },
 "nbformat": 4,
 "nbformat_minor": 5
}
